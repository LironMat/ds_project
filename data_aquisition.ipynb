{
 "cells": [
  {
   "cell_type": "code",
   "execution_count": 1,
   "metadata": {},
   "outputs": [],
   "source": [
    "import os\n",
    "import json\n",
    "from bs4 import BeautifulSoup\n",
    "import pandas as pd\n",
    "from joblib import Parallel, delayed\n",
    "import numpy as np\n",
    "\n",
    "pd.set_option('display.max_columns', None)"
   ]
  },
  {
   "cell_type": "code",
   "execution_count": 2,
   "metadata": {},
   "outputs": [],
   "source": [
    "def get_soup(file_path: str):\n",
    "    with open(file_path, 'r') as f:\n",
    "        return BeautifulSoup(f, 'html.parser')\n"
   ]
  },
  {
   "cell_type": "code",
   "execution_count": 3,
   "metadata": {},
   "outputs": [],
   "source": [
    "def get_item_data(item_page_soup: BeautifulSoup):\n",
    "    item = {}\n",
    "\n",
    "    item['id'] = item_page_soup.select_one(\n",
    "        'input[type=hidden][name=id]').attrs['value']\n",
    "    item['name'] = item_page_soup.select_one('.workshopItemTitle').text\n",
    "    item['discussions_count'] = 0\n",
    "    item['comments_count'] = 0\n",
    "\n",
    "    item['submitter'] = item_page_soup.select_one('.breadcrumbs').select('a')[-1].text.replace('\\'s Workshop','')\n",
    "\n",
    "    for section_tab in item_page_soup.select('.sectionTab'):\n",
    "        for count_name in ['Discussions', 'Comments']:\n",
    "            if section_tab.text.startswith(count_name):\n",
    "                item[f'{count_name.lower()}_count'] = int(\n",
    "                    section_tab.text[len(count_name):])\n",
    "\n",
    "    item['movie_count'] = len(item_page_soup.select('.highlight_strip_movie'))\n",
    "    item['screenshot_count'] = len(\n",
    "        item_page_soup.select('.highlight_strip_screenshot'))\n",
    "\n",
    "    item['awards_count'] = sum([int(i.attrs['data-reactioncount'])\n",
    "                               for i in item_page_soup.select('.review_award')])\n",
    "\n",
    "    item['link_count'] = len(item_page_soup.select('.general_btn.panel_btn'))\n",
    "\n",
    "    item['file_size_mb'] = 0\n",
    "    \n",
    "    for i,details_stat_right in enumerate(item_page_soup.select('.detailsStatRight')):\n",
    "        if i == 0:\n",
    "            item['file_size_mb'] = float(details_stat_right.text[:-len(' MB')])\n",
    "        if i == 1:\n",
    "            item['posted_date'] = details_stat_right.text\n",
    "        if i == 2:\n",
    "            item['updated_date'] = details_stat_right.text\n",
    "\n",
    "    num_change_notes_element = item_page_soup.select_one('.detailsStatNumChangeNotes')\n",
    "\n",
    "    item['change_notes'] = int(num_change_notes_element.text.strip().split()[0]) if num_change_notes_element else 0\n",
    "\n",
    "    item['certified_compatible'] = 1 if any([t.text.strip().upper(\n",
    "    ) == 'CERTIFIED COMPATIBLE' for t in item_page_soup.select('.title')]) else 0\n",
    "    item['creator_count'] = len(item_page_soup.select_one(\n",
    "        '.creatorsBlock').find_all(recursive=False))\n",
    "\n",
    "    parent_collections_num_others_element = item_page_soup.select_one(\n",
    "        '.parentCollectionsNumOthers')\n",
    "\n",
    "    if not parent_collections_num_others_element:\n",
    "        item['featured_collection_count'] = 0\n",
    "    elif parent_collections_num_others_element.a.text == 'collection':\n",
    "        item['featured_collection_count'] = 1\n",
    "    else:\n",
    "        item['featured_collection_count'] = int(\n",
    "            parent_collections_num_others_element.a.text.split(' ')[0])\n",
    "\n",
    "    for tr in item_page_soup.select_one('.stats_table').find_all('tr'):\n",
    "        tr_text = ''\n",
    "\n",
    "        for td in reversed(tr.find_all('td')):\n",
    "            tr_text += f\" {td.text.lower()}\"\n",
    "\n",
    "        tr_text = tr_text.strip()\n",
    "\n",
    "        if tr_text.startswith('unique visitors'):\n",
    "            item['visitors_count'] = int(\n",
    "                tr_text[len('unique visitors '):].replace(',', ''))\n",
    "        if tr_text.startswith('current favorites'):\n",
    "            item['favorites_count'] = int(\n",
    "                tr_text[len('current favorites '):].replace(',', ''))\n",
    "\n",
    "    for workshop_tag in item_page_soup.select('.workshopTags'):\n",
    "        item[workshop_tag.select_one('.workshopTagsTitle').text.strip().lower().replace(' ', '_')[\n",
    "            :-1]] = [a.text.strip().lower() for a in workshop_tag.find_all('a', recursive=False)]\n",
    "\n",
    "    item['description'] = item_page_soup.select_one('#highlightContent').getText()\n",
    "            \n",
    "    return item\n"
   ]
  },
  {
   "cell_type": "code",
   "execution_count": 4,
   "metadata": {},
   "outputs": [],
   "source": [
    "def create_item(file_path: str):\n",
    "    file_soup = get_soup(file_path)\n",
    "\n",
    "    return get_item_data(file_soup)\n"
   ]
  },
  {
   "cell_type": "code",
   "execution_count": 5,
   "metadata": {},
   "outputs": [],
   "source": [
    "def create_folder_json(folder_name: str):\n",
    "    items = Parallel(n_jobs=-1)(delayed(create_item)(f'{folder_name}/{file_name}') for file_name in os.listdir(folder_name))\n",
    "    \n",
    "    with open(f'{folder_name}.json', 'w') as f:\n",
    "        json.dump(items, f)\n"
   ]
  },
  {
   "cell_type": "code",
   "execution_count": 6,
   "metadata": {},
   "outputs": [],
   "source": [
    "create_folder_json('accepted')\n"
   ]
  },
  {
   "cell_type": "code",
   "execution_count": 7,
   "metadata": {},
   "outputs": [],
   "source": [
    "create_folder_json('not_accepted')\n"
   ]
  }
 ],
 "metadata": {
  "interpreter": {
   "hash": "45037c9fa964e33746a67959e611b1255904e81b18931a74a47f598c93f55abd"
  },
  "kernelspec": {
   "display_name": "Python 3.10.2 64-bit",
   "language": "python",
   "name": "python3"
  },
  "language_info": {
   "codemirror_mode": {
    "name": "ipython",
    "version": 3
   },
   "file_extension": ".py",
   "mimetype": "text/x-python",
   "name": "python",
   "nbconvert_exporter": "python",
   "pygments_lexer": "ipython3",
   "version": "3.10.2"
  },
  "orig_nbformat": 4
 },
 "nbformat": 4,
 "nbformat_minor": 2
}
