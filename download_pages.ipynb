{
 "cells": [
  {
   "cell_type": "code",
   "execution_count": 1,
   "metadata": {},
   "outputs": [],
   "source": [
    "import os\n",
    "import re\n",
    "import requests\n",
    "from bs4 import BeautifulSoup"
   ]
  },
  {
   "cell_type": "code",
   "execution_count": 2,
   "metadata": {},
   "outputs": [],
   "source": [
    "accepted_base_url = 'https://steamcommunity.com/workshop/browse/?appid=440&browsesort=accepted&section=mtxitems&browsefilter=accepted'\n",
    "not_accepted_base_url = 'https://steamcommunity.com/workshop/browse/?appid=440&browsesort=trend&section=mtxitems'\n"
   ]
  },
  {
   "cell_type": "code",
   "execution_count": 3,
   "metadata": {},
   "outputs": [],
   "source": [
    "def get_soup(url: str):\n",
    "    return BeautifulSoup(requests.get(url).content, 'html.parser')\n"
   ]
  },
  {
   "cell_type": "code",
   "execution_count": 5,
   "metadata": {},
   "outputs": [],
   "source": [
    "def download_item_by_id(folder_name: str, id: str):\n",
    "    with open(f'{folder_name}{os.sep}{id}.html', \"wb\") as item_file:\n",
    "        item_file.write(requests.get(\n",
    "            f\"https://steamcommunity.com/sharedfiles/filedetails/?id={id}\").content)\n"
   ]
  },
  {
   "cell_type": "code",
   "execution_count": 4,
   "metadata": {},
   "outputs": [],
   "source": [
    "def download_items(folder_name: str, base_url: str):\n",
    "    os.makedirs(folder_name, exist_ok=True)\n",
    "\n",
    "    base_soup = get_soup(base_url)\n",
    "\n",
    "    page_count = int(base_soup.select('.pagelink')[-1].text.replace(',', ''))\n",
    "\n",
    "    paging_info = base_soup.select_one('.workshopBrowsePagingInfo').text\n",
    "    item_count = int(\n",
    "        re.search(r'of ([\\d,]+) entries', paging_info).group(1).replace(',', ''))\n",
    "\n",
    "    print(page_count, 'pages', item_count, 'items')\n",
    "\n",
    "    item_count = 1\n",
    "\n",
    "    for page_number in range(1, page_count+1):\n",
    "        print('started page', page_number)\n",
    "\n",
    "        page_soup = get_soup(base_url+f'&p={page_number}')\n",
    "        page_item_ids = [e.find('a').attrs['data-publishedfileid']\n",
    "                         for e in page_soup.select('.workshopItem')]\n",
    "\n",
    "        for id in page_item_ids:\n",
    "            if os.path.exists(f'{folder_name}/{id}.html'):\n",
    "                continue\n",
    "\n",
    "            print('downloading item number', item_count, 'with id:', id)\n",
    "            download_item_by_id(folder_name,id)\n",
    "\n",
    "            item_count = item_count + 1\n"
   ]
  },
  {
   "cell_type": "code",
   "execution_count": null,
   "metadata": {},
   "outputs": [],
   "source": [
    "download_items('accepted',accepted_base_url)"
   ]
  },
  {
   "cell_type": "code",
   "execution_count": null,
   "metadata": {},
   "outputs": [],
   "source": [
    "download_items('not_accepted',not_accepted_base_url)"
   ]
  }
 ],
 "metadata": {
  "interpreter": {
   "hash": "77e92358824cd95e6c4bc8bbd85f8f915bed2cbffdf7b71de1dc818ae11a94c8"
  },
  "kernelspec": {
   "display_name": "Python 3.10.2 64-bit",
   "language": "python",
   "name": "python3"
  },
  "language_info": {
   "codemirror_mode": {
    "name": "ipython",
    "version": 3
   },
   "file_extension": ".py",
   "mimetype": "text/x-python",
   "name": "python",
   "nbconvert_exporter": "python",
   "pygments_lexer": "ipython3",
   "version": "3.10.2"
  },
  "orig_nbformat": 4
 },
 "nbformat": 4,
 "nbformat_minor": 2
}
